{
 "cells": [
  {
   "cell_type": "markdown",
   "metadata": {},
   "source": [
    "# Setup"
   ]
  },
  {
   "cell_type": "code",
   "execution_count": 1,
   "metadata": {},
   "outputs": [
    {
     "name": "stderr",
     "output_type": "stream",
     "text": [
      "/opt/miniconda3/lib/python3.12/site-packages/tqdm/auto.py:21: TqdmWarning: IProgress not found. Please update jupyter and ipywidgets. See https://ipywidgets.readthedocs.io/en/stable/user_install.html\n",
      "  from .autonotebook import tqdm as notebook_tqdm\n"
     ]
    }
   ],
   "source": [
    "import numpy as np\n",
    "import numpy.random as npr\n",
    "import matplotlib.pyplot as plt\n",
    "from ssm import *\n",
    "#from ssm.ssm.files.util import find_permutation\n",
    "import pandas as pd\n",
    "import os\n",
    "npr.seed(0)"
   ]
  },
  {
   "cell_type": "code",
   "execution_count": 2,
   "metadata": {},
   "outputs": [],
   "source": [
    "root_dir = '/Users/colineleteurtre/Library/CloudStorage/OneDrive-Personnel/Documents/cours/EPFL/MA2/projet_sem/visual-perception'\n",
    "root_dir = os.getcwd()\n",
    "\n",
    "### what to do\n",
    "save_data = True"
   ]
  },
  {
   "cell_type": "markdown",
   "metadata": {},
   "source": [
    "## Initialize GLM-HMM"
   ]
  },
  {
   "cell_type": "markdown",
   "metadata": {},
   "source": [
    "## Load and prepare inputs"
   ]
  },
  {
   "cell_type": "code",
   "execution_count": 95,
   "metadata": {},
   "outputs": [],
   "source": [
    "### read and data \n",
    "dfs = []\n",
    "columns_to_keep = ['theta', 'resp', 'block']\n",
    "\n",
    "for i in range (5):\n",
    "    df = {}\n",
    "    df[i+1] = pd.read_csv(f'{root_dir}/Data/00{i+1}/00{i+1}.csv')[columns_to_keep]\n",
    "    df[i+1]['ID'] = i+1  \n",
    "    df[i+1]['prev_resp'] = df[i+1].groupby('block')['resp'].shift(1, fill_value=0)\n",
    "    dfs.append(df[i+1])\n",
    "\n",
    "final_df = pd.concat(dfs, ignore_index=True)\n",
    "final_df = final_df[['ID', 'block', 'theta', 'prev_resp', 'resp']]\n",
    "final_df['resp'] = final_df['resp'].replace(-1, 0)\n",
    "final_df['theta'] = final_df['theta'].replace(-45, -1)\n",
    "final_df['theta'] = final_df['theta'].replace(45, 1)\n",
    "final_df.to_csv(root_dir + '/Full_Data.csv', index=False)"
   ]
  },
  {
   "cell_type": "code",
   "execution_count": null,
   "metadata": {},
   "outputs": [],
   "source": [
    "isi,block,trial,isi_ms,isi_frames,theta,log_cnt,resp,rt,stim_duration,blank_duration,cnt,correct\n",
    "33,1,1,640,64,-45,-1.8546873026985,-1,0.546695,0.0482276000002457,0.645238199999767,0.0139737412527265,1"
   ]
  },
  {
   "cell_type": "code",
   "execution_count": 63,
   "metadata": {},
   "outputs": [
    {
     "name": "stdout",
     "output_type": "stream",
     "text": [
      "ID: [1, 2, 3, 4, 5]\n",
      "block: [1, 2, 3, 4, 5, 6, 7, 8, 9, 10]\n",
      "theta: [-1, 1]\n",
      "prev_resp: [0, -1, 1]\n",
      "resp: [0, 1]\n"
     ]
    }
   ],
   "source": [
    "summary = {}\n",
    "for col in final_df.columns:\n",
    "    unique_values = final_df[col].unique()\n",
    "    summary[col] = unique_values.tolist()\n",
    "for col, types in summary.items():\n",
    "    print(f\"{col}: {types}\")"
   ]
  },
  {
   "cell_type": "code",
   "execution_count": null,
   "metadata": {},
   "outputs": [],
   "source": [
    "### Set the parameters of the GLM-HMM\n",
    "obs_dim = 1           # number of observed dimensions\n",
    "num_categories = 2    # number of categories for output\n",
    "input_dim = 3  #2      # input dimensions\n",
    "N_iters = 500"
   ]
  },
  {
   "cell_type": "code",
   "execution_count": 151,
   "metadata": {},
   "outputs": [],
   "source": [
    "inpts = []\n",
    "choices = []\n",
    "participants = final_df[\"ID\"].unique()\n",
    "\n",
    "for load_idx in participants:\n",
    "    this_data = final_df.loc[final_df['ID'] == load_idx].copy()\n",
    "        ## start with estimating the experiment as a whole\n",
    "    num_sess = 1\n",
    "    num_trials_per_sess = len(this_data)\n",
    "\n",
    "    new_inpts = []\n",
    "    new_choices = []\n",
    "\n",
    "    new_inpts = np.ones((num_trials_per_sess, input_dim))\n",
    "    \n",
    "    ## get input format\n",
    "    new_inpts[:, 0] = this_data['theta'].copy()\n",
    "    new_inpts[:, 1] = this_data['prev_resp'].copy()\n",
    "    #new_inpts[:, 2] = this_data['previous_contrast'].copy()\n",
    "    new_inpts[:, 2] = np.ones(this_data.shape[0])\n",
    "    inpts.append(new_inpts)\n",
    "\n",
    "    new_choices = this_data['resp'].copy()\n",
    "    new_choices = np.atleast_2d(new_choices).T\n",
    "    choices.append(new_choices) "
   ]
  },
  {
   "cell_type": "markdown",
   "metadata": {},
   "source": [
    "## Fit at group-level in one-state GLM-HMM"
   ]
  },
  {
   "cell_type": "code",
   "execution_count": 102,
   "metadata": {},
   "outputs": [
    {
     "name": "stdout",
     "output_type": "stream",
     "text": [
      "((array([-0.]),), (array([[0.]]),), array([[[0.832197  , 1.27370545, 1.25717812]]]))\n",
      "((array([-0.]),), (array([[0.]]),), array([[[0.01832206, 0.30438031, 1.49867128]]]))\n"
     ]
    },
    {
     "name": "stdout",
     "output_type": "stream",
     "text": [
      "((array([-0.]),), (array([[0.]]),), array([[[ 0.45823801,  1.0231491 , -1.74728804]]]))\n",
      "((array([-0.]),), (array([[0.]]),), array([[[-2.2434772 , -0.43857723,  0.10521318]]]))\n",
      "((array([-0.]),), (array([[0.]]),), array([[[-1.1192467 ,  1.46188025, -0.80531578]]]))\n",
      "((array([-0.]),), (array([[0.]]),), array([[[0.69145466, 0.92125598, 0.37893479]]]))\n",
      "((array([-0.]),), (array([[0.]]),), array([[[ 1.23384628,  0.96334718, -1.33619513]]]))\n",
      "((array([-0.]),), (array([[0.]]),), array([[[1.45306183, 0.16695366, 2.19479742]]]))\n",
      "((array([-0.]),), (array([[0.]]),), array([[[-0.53477967, -0.8017931 , -0.44133413]]]))\n",
      "((array([-0.]),), (array([[0.]]),), array([[[-1.0868426 , -0.34338331, -0.73391807]]]))\n",
      "((array([-0.]),), (array([[0.]]),), array([[[ 0.06567002, -0.93611763, -1.11852092]]]))\n",
      "((array([-0.]),), (array([[0.]]),), array([[[ 0.12337799, -1.45139422,  0.06737545]]]))\n",
      "((array([-0.]),), (array([[0.]]),), array([[[-0.62810741,  1.19766901,  0.95869067]]]))\n",
      "((array([-0.]),), (array([[0.]]),), array([[[ 1.19905957, -0.57999749, -1.03774288]]]))\n",
      "((array([-0.]),), (array([[0.]]),), array([[[-0.35097494, -0.71352901,  1.24504583]]]))\n",
      "((array([-0.]),), (array([[0.]]),), array([[[-1.49227817,  0.71243761, -0.5504871 ]]]))\n",
      "((array([-0.]),), (array([[0.]]),), array([[[ 0.31987971, -0.71732438,  0.53788279]]]))\n",
      "((array([-0.]),), (array([[0.]]),), array([[[-0.84143386,  0.05222085, -0.16424334]]]))\n",
      "((array([-0.]),), (array([[0.]]),), array([[[ 0.92820074, -0.19158894, -1.45035098]]]))\n",
      "((array([-0.]),), (array([[0.]]),), array([[[-1.27751232, -0.91284101,  0.60229197]]]))\n",
      "((array([-0.]),), (array([[0.]]),), array([[[ 0.00285887,  0.75970816, -0.00190563]]]))\n",
      "((array([-0.]),), (array([[0.]]),), array([[[-0.78381254, -0.34234183, -0.23427499]]]))\n",
      "((array([-0.]),), (array([[0.]]),), array([[[-0.38234486, -0.15732672, -0.32718691]]]))\n",
      "((array([-0.]),), (array([[0.]]),), array([[[ 0.70980686, -0.50773207, -1.05574843]]]))\n",
      "((array([-0.]),), (array([[0.]]),), array([[[ 0.60127442, -1.64746665, -0.35960132]]]))\n",
      "((array([-0.]),), (array([[0.]]),), array([[[ 2.52817488, -0.94432069, -0.6563445 ]]]))\n",
      "((array([-0.]),), (array([[0.]]),), array([[[-1.06358207, -0.62101663,  0.05649305]]]))\n",
      "((array([-0.]),), (array([[0.]]),), array([[[-0.4113591 ,  1.40365565, -0.82394134]]]))\n",
      "((array([-0.]),), (array([[0.]]),), array([[[-1.09365849, -0.30481166, -1.10131103]]]))\n",
      "((array([-0.]),), (array([[0.]]),), array([[[ 0.63343936, -0.28989803,  0.1608917 ]]]))\n",
      "((array([-0.]),), (array([[0.]]),), array([[[-0.75280453,  3.33387945, -1.41355766]]]))\n",
      "((array([-0.]),), (array([[0.]]),), array([[[-0.73314636, -2.25029522,  0.96236174]]]))\n",
      "((array([-0.]),), (array([[0.]]),), array([[[-0.42713955, -1.15700733,  0.8537095 ]]]))\n",
      "((array([-0.]),), (array([[0.]]),), array([[[0.54000256, 1.08347831, 0.7692968 ]]]))\n",
      "((array([-0.]),), (array([[0.]]),), array([[[-0.59687181,  0.10918825,  0.28918976]]]))\n",
      "((array([-0.]),), (array([[0.]]),), array([[[ 1.05455485,  2.91483507, -0.62731249]]]))\n",
      "((array([-0.]),), (array([[0.]]),), array([[[-0.17519905, -1.93280719,  0.5856957 ]]]))\n",
      "((array([-0.]),), (array([[0.]]),), array([[[ 0.17287177,  0.46838654, -0.22782339]]]))\n",
      "((array([-0.]),), (array([[0.]]),), array([[[-0.75288359, -1.33843476, -0.52775562]]]))\n",
      "((array([-0.]),), (array([[0.]]),), array([[[1.71249332, 1.00521952, 0.02916019]]]))\n",
      "((array([-0.]),), (array([[0.]]),), array([[[-0.3003363 ,  1.45270437, -0.48199448]]]))\n",
      "((array([-0.]),), (array([[0.]]),), array([[[-0.46783465,  2.04670603,  0.67178473]]]))\n",
      "((array([-0.]),), (array([[0.]]),), array([[[-0.21168391, -0.37694947,  0.41155333]]]))\n",
      "((array([-0.]),), (array([[0.]]),), array([[[ 1.43744828,  1.10752463, -0.9495987 ]]]))\n",
      "((array([-0.]),), (array([[0.]]),), array([[[-0.14870855,  0.29570321,  1.24998492]]]))\n",
      "((array([-0.]),), (array([[0.]]),), array([[[-0.13627958, -0.36376472,  1.0382292 ]]]))\n",
      "((array([-0.]),), (array([[0.]]),), array([[[-0.99378519,  1.03560406, -2.07429855]]]))\n",
      "((array([-0.]),), (array([[0.]]),), array([[[ 0.83508252, -0.18964706,  0.73457163]]]))\n",
      "((array([-0.]),), (array([[0.]]),), array([[[ 0.86631041, -0.29334005,  0.29639472]]]))\n",
      "((array([-0.]),), (array([[0.]]),), array([[[ 0.34831744, -0.43964511,  1.78992809]]]))\n",
      "((array([-0.]),), (array([[0.]]),), array([[[0.60359165, 0.16728489, 0.04480402]]]))\n",
      "((array([-0.]),), (array([[0.]]),), array([[[ 1.81587486, -0.23029357,  1.44117345]]]))\n",
      "((array([-0.]),), (array([[0.]]),), array([[[ 0.15939901, -0.26440927, -0.51277299]]]))\n",
      "((array([-0.]),), (array([[0.]]),), array([[[ 0.41055797,  0.83144047, -0.52231773]]]))\n",
      "((array([-0.]),), (array([[0.]]),), array([[[ 0.29331732, -2.02295804, -1.47508911]]]))\n",
      "((array([-0.]),), (array([[0.]]),), array([[[-0.02691764, -0.34962578,  0.1946887 ]]]))\n",
      "((array([-0.]),), (array([[0.]]),), array([[[-0.43952806, -0.63821567,  0.64291669]]]))\n",
      "((array([-0.]),), (array([[0.]]),), array([[[ 0.96437581,  0.1885386 , -0.03411868]]]))\n",
      "((array([-0.]),), (array([[0.]]),), array([[[-0.54805924, -0.00111227,  0.82469187]]]))\n",
      "((array([-0.]),), (array([[0.]]),), array([[[-0.68255129,  0.74691036, -0.7709512 ]]]))\n",
      "((array([-0.]),), (array([[0.]]),), array([[[0.50538558, 0.76304368, 0.04596557]]]))\n",
      "((array([-0.]),), (array([[0.]]),), array([[[-0.27276601,  0.22614823,  0.56429801]]]))\n",
      "((array([-0.]),), (array([[0.]]),), array([[[0.26211665, 0.97196354, 0.10444216]]]))\n",
      "((array([-0.]),), (array([[0.]]),), array([[[ 0.00730677,  0.48319453, -0.1986074 ]]]))\n",
      "((array([-0.]),), (array([[0.]]),), array([[[-1.04433384,  1.11737498,  1.19504311]]]))\n",
      "((array([-0.]),), (array([[0.]]),), array([[[-0.11151453,  0.50385454,  2.05476141]]]))\n",
      "((array([-0.]),), (array([[0.]]),), array([[[-0.90581425, -1.76438802,  1.31914236]]]))\n",
      "((array([-0.]),), (array([[0.]]),), array([[[-2.2808686 ,  0.5077068 ,  0.15786256]]]))\n",
      "((array([-0.]),), (array([[0.]]),), array([[[-0.5314694 ,  0.13114569,  0.25456649]]]))\n",
      "((array([-0.]),), (array([[0.]]),), array([[[ 0.69474682, -0.42667339, -1.25990845]]]))\n",
      "((array([-0.]),), (array([[0.]]),), array([[[-0.47983786,  0.05974402, -0.83187868]]]))\n",
      "((array([-0.]),), (array([[0.]]),), array([[[ 0.21167314,  1.27408818, -0.9017829 ]]]))\n",
      "((array([-0.]),), (array([[0.]]),), array([[[ 0.04590745,  0.27448896, -0.3722973 ]]]))\n",
      "((array([-0.]),), (array([[0.]]),), array([[[0.92183009, 0.58180946, 0.62039388]]]))\n",
      "((array([-0.]),), (array([[0.]]),), array([[[-1.59325197,  1.30647426,  0.2685581 ]]]))\n",
      "((array([-0.]),), (array([[0.]]),), array([[[ 0.44819942, -0.32176343,  0.09771566]]]))\n",
      "((array([-0.]),), (array([[0.]]),), array([[[ 0.84734459, -0.08457541, -0.33440166]]]))\n",
      "((array([-0.]),), (array([[0.]]),), array([[[-0.14986159,  0.64040822, -2.86724516]]]))\n",
      "((array([-0.]),), (array([[0.]]),), array([[[-0.79313918, -0.54401106,  0.78150095]]]))\n",
      "((array([-0.]),), (array([[0.]]),), array([[[ 0.46312205, -1.0616909 ,  2.18658869]]]))\n",
      "((array([-0.]),), (array([[0.]]),), array([[[-1.60414311,  0.6356063 , -0.91648528]]]))\n",
      "((array([-0.]),), (array([[0.]]),), array([[[ 1.85756176, -0.58475872,  1.17069719]]]))\n",
      "((array([-0.]),), (array([[0.]]),), array([[[-0.06295084, -2.20476207,  1.33867518]]]))\n",
      "((array([-0.]),), (array([[0.]]),), array([[[ 1.35228448,  0.68279294, -0.98495116]]]))\n",
      "((array([-0.]),), (array([[0.]]),), array([[[ 1.16027304,  0.16074735, -0.06757203]]]))\n",
      "((array([-0.]),), (array([[0.]]),), array([[[-0.64413998, -0.35171987, -1.3311268 ]]]))\n",
      "((array([-0.]),), (array([[0.]]),), array([[[-0.92408038,  0.00357903, -0.502034  ]]]))\n",
      "((array([-0.]),), (array([[0.]]),), array([[[-0.5127793 ,  0.17364701,  2.35000327]]]))\n",
      "((array([-0.]),), (array([[0.]]),), array([[[ 0.34965777, -1.67325687, -0.10319261]]]))\n",
      "((array([-0.]),), (array([[0.]]),), array([[[0.08858434, 1.39206612, 0.39297468]]]))\n",
      "((array([-0.]),), (array([[0.]]),), array([[[-0.59320539,  0.35919571, -0.66436761]]]))\n",
      "((array([-0.]),), (array([[0.]]),), array([[[-1.71923928,  1.04270186, -0.40196347]]]))\n",
      "((array([-0.]),), (array([[0.]]),), array([[[1.35962233, 0.60371174, 1.82498485]]]))\n",
      "((array([-0.]),), (array([[0.]]),), array([[[ 1.09697283, -0.21643601, -2.06860989]]]))\n",
      "((array([-0.]),), (array([[0.]]),), array([[[ 0.44610962, -0.61009375, -2.28774343]]]))\n",
      "((array([-0.]),), (array([[0.]]),), array([[[ 0.12287915, -2.25174589,  0.17452541]]]))\n",
      "((array([-0.]),), (array([[0.]]),), array([[[-0.2393186 ,  0.65767575, -0.13408317]]]))\n",
      "((array([-0.]),), (array([[0.]]),), array([[[ 0.71635001, -0.99191932, -0.53107604]]]))\n",
      "((array([-0.]),), (array([[0.]]),), array([[[-1.09953383,  0.1334555 , -1.37915141]]]))\n",
      "((array([-0.]),), (array([[0.]]),), array([[[ 1.3519679 , -0.81188484, -0.84168341]]]))\n"
     ]
    }
   ],
   "source": [
    "### fit one state GLM-HMM at group level\n",
    "\n",
    "num_states = 1\n",
    "n_iter = 100\n",
    "\n",
    "transition_alpha = 1\n",
    "prior_sigma = 10\n",
    "\n",
    "#iter_array = np.full([n_iter, 2], np.nan)\n",
    "iter_array = np.full([n_iter, 3], np.nan)\n",
    "for idx in range(n_iter):\n",
    "    \n",
    "    one_state_glmhmm = HMM(num_states, obs_dim, input_dim, \n",
    "                    observations=\"input_driven_obs\", \n",
    "                    observation_kwargs=dict(C=num_categories, prior_sigma=prior_sigma), \n",
    "                    transitions=\"sticky\", \n",
    "                    transition_kwargs=dict(alpha=transition_alpha, kappa=0))\n",
    "    print(one_state_glmhmm.params)\n",
    "    one_state_glmhmm.fit(choices, inputs=inpts, method=\"em\", num_iters=N_iters, initialize = True, tolerance=10**-4, verbose = False)\n",
    "    #iter_array[idx,] = one_state_glmhmm.observations.params.reshape((1,2))\n",
    "    iter_array[idx,] = one_state_glmhmm.observations.params.reshape((1,3))\n"
   ]
  },
  {
   "cell_type": "code",
   "execution_count": 104,
   "metadata": {},
   "outputs": [],
   "source": [
    "df_iter_array = pd.DataFrame(iter_array, columns = ['theta', 'prev_resp', 'bias'])\n",
    "if save_data:\n",
    "    df_iter_array.to_csv(root_dir + '/HMM/one_level_HMM_params.csv', index = False) "
   ]
  },
  {
   "cell_type": "code",
   "execution_count": 105,
   "metadata": {},
   "outputs": [
    {
     "name": "stdout",
     "output_type": "stream",
     "text": [
      "[-0.98265191 -0.21943589 -0.17155327]\n"
     ]
    }
   ],
   "source": [
    "df_iter_array = pd.read_csv(root_dir + '/HMM/one_level_HMM_params.csv')\n",
    "params_for_initalization = df_iter_array.mean().values\n",
    "print(params_for_initalization)"
   ]
  },
  {
   "cell_type": "markdown",
   "metadata": {},
   "source": [
    "# Fit multi-state GLM-HMMs at group-level and compare BIC"
   ]
  },
  {
   "cell_type": "code",
   "execution_count": 106,
   "metadata": {},
   "outputs": [
    {
     "name": "stdout",
     "output_type": "stream",
     "text": [
      "0\n",
      "[[[-0.98268702 -0.21945422 -0.17152113]]]\n",
      "1\n",
      "[[[-1.08961534 -0.19615049  0.42900719]]\n",
      "\n",
      " [[-1.00789212  0.01862887 -0.78235657]]]\n"
     ]
    }
   ],
   "source": [
    "## compare models based on BIC\n",
    "max_num_states =  2    # number of discrete states\n",
    "\n",
    "N_iters = 500 # maximum number of EM iterations. Fitting with stop earlier if increase in LL is below tolerance specified by tolerance parameter\n",
    "# Make a GLM-HMM\n",
    "prior_sigma = 10\n",
    "transition_alpha = 1\n",
    "\n",
    "BIC = []\n",
    "for state_idx in range(max_num_states): \n",
    "    print(state_idx)\n",
    "    compare_glmhmm = HMM(state_idx+1, obs_dim, input_dim, \n",
    "                    observations=\"input_driven_obs\", \n",
    "                    observation_kwargs=dict(C=num_categories, prior_sigma=prior_sigma), \n",
    "                    transitions=\"sticky\", \n",
    "                    transition_kwargs=dict(alpha=transition_alpha, kappa=0))\n",
    "\n",
    "    \n",
    "    _ = compare_glmhmm.fit(choices, inputs=inpts, method=\"em\", num_iters=N_iters, initialize = True, tolerance=10**-4, verbose = False)\n",
    "    n_total_params = np.concatenate(compare_glmhmm.observations.params).size + np.concatenate(compare_glmhmm.transitions.params).size\n",
    "    \n",
    "    # Flatten choices and inpts to calculate log likelihood correctly\n",
    "    flattened_choices = np.concatenate(choices)\n",
    "    flattened_inpts = np.concatenate(inpts)\n",
    "\n",
    "    new_BIC = np.log(np.size(flattened_choices))*n_total_params - 2*compare_glmhmm.log_likelihood(choices, inputs=inpts)\n",
    "    \n",
    "    if save_data:\n",
    "        pd.DataFrame(np.append(new_BIC, np.concatenate(compare_glmhmm.observations.params))).to_csv(root_dir + '/HMM/Full_model_outcome_states_' + str(state_idx + 1) + '.csv', index = False)\n",
    "\n",
    "    BIC = np.append(BIC, new_BIC) \n",
    "    print(compare_glmhmm.observations.params)\n",
    "\n",
    "df_BIC = pd.DataFrame({'BIC': BIC, 'num_states': np.arange(max_num_states) + 1})\n",
    "\n",
    "\n",
    "if save_data:\n",
    "    df_BIC.to_csv(root_dir + '/HMM/BIC_across_models.csv', index = False)\n"
   ]
  },
  {
   "cell_type": "code",
   "execution_count": 107,
   "metadata": {},
   "outputs": [
    {
     "data": {
      "text/plain": [
       "array([-94.54159353])"
      ]
     },
     "execution_count": 107,
     "metadata": {},
     "output_type": "execute_result"
    },
    {
     "data": {
      "image/png": "[encoded data removed]",
      "text/plain": [
       "<Figure size 640x480 with 1 Axes>"
      ]
     },
     "metadata": {},
     "output_type": "display_data"
    }
   ],
   "source": [
    "df_BIC = pd.read_csv(root_dir + '/HMM/BIC_across_models.csv')\n",
    "plt.plot(df_BIC['num_states'], df_BIC['BIC'])\n",
    "np.diff(df_BIC.BIC)"
   ]
  },
  {
   "cell_type": "markdown",
   "metadata": {},
   "source": [
    "# Fit permuted multi-state GLM-HMMs at group-level and compare BIC"
   ]
  },
  {
   "cell_type": "code",
   "execution_count": 108,
   "metadata": {},
   "outputs": [
    {
     "name": "stdout",
     "output_type": "stream",
     "text": [
      "Permutation 0, State 0\n",
      "Permutation 0, State 1\n",
      "Permutation 1, State 0\n",
      "Permutation 1, State 1\n",
      "Permutation 2, State 0\n",
      "Permutation 2, State 1\n",
      "Permutation 3, State 0\n",
      "Permutation 3, State 1\n",
      "Permutation 4, State 0\n",
      "Permutation 4, State 1\n",
      "Permutation 5, State 0\n",
      "Permutation 5, State 1\n",
      "Permutation 6, State 0\n",
      "Permutation 6, State 1\n",
      "Permutation 7, State 0\n",
      "Permutation 7, State 1\n",
      "Permutation 8, State 0\n",
      "Permutation 8, State 1\n",
      "Permutation 9, State 0\n",
      "Permutation 9, State 1\n",
      "Permutation 10, State 0\n",
      "Permutation 10, State 1\n",
      "Permutation 11, State 0\n",
      "Permutation 11, State 1\n",
      "Permutation 12, State 0\n",
      "Permutation 12, State 1\n",
      "Permutation 13, State 0\n",
      "Permutation 13, State 1\n",
      "Permutation 14, State 0\n",
      "Permutation 14, State 1\n",
      "Permutation 15, State 0\n",
      "Permutation 15, State 1\n",
      "Permutation 16, State 0\n",
      "Permutation 16, State 1\n",
      "Permutation 17, State 0\n",
      "Permutation 17, State 1\n",
      "Permutation 18, State 0\n",
      "Permutation 18, State 1\n",
      "Permutation 19, State 0\n",
      "Permutation 19, State 1\n",
      "Permutation 20, State 0\n",
      "Permutation 20, State 1\n",
      "Permutation 21, State 0\n",
      "Permutation 21, State 1\n",
      "Permutation 22, State 0\n",
      "Permutation 22, State 1\n",
      "Permutation 23, State 0\n",
      "Permutation 23, State 1\n",
      "Permutation 24, State 0\n",
      "Permutation 24, State 1\n",
      "Permutation 25, State 0\n",
      "Permutation 25, State 1\n",
      "Permutation 26, State 0\n",
      "Permutation 26, State 1\n",
      "Permutation 27, State 0\n",
      "Permutation 27, State 1\n",
      "Permutation 28, State 0\n",
      "Permutation 28, State 1\n",
      "Permutation 29, State 0\n",
      "Permutation 29, State 1\n",
      "Permutation 30, State 0\n",
      "Permutation 30, State 1\n",
      "Permutation 31, State 0\n",
      "Permutation 31, State 1\n",
      "Permutation 32, State 0\n",
      "Permutation 32, State 1\n",
      "Permutation 33, State 0\n",
      "Permutation 33, State 1\n",
      "Permutation 34, State 0\n",
      "Permutation 34, State 1\n",
      "Permutation 35, State 0\n",
      "Permutation 35, State 1\n",
      "Permutation 36, State 0\n",
      "Permutation 36, State 1\n",
      "Permutation 37, State 0\n",
      "Permutation 37, State 1\n",
      "Permutation 38, State 0\n",
      "Permutation 38, State 1\n",
      "Permutation 39, State 0\n",
      "Permutation 39, State 1\n",
      "Permutation 40, State 0\n",
      "Permutation 40, State 1\n",
      "Permutation 41, State 0\n",
      "Permutation 41, State 1\n",
      "Permutation 42, State 0\n",
      "Permutation 42, State 1\n",
      "Permutation 43, State 0\n",
      "Permutation 43, State 1\n",
      "Permutation 44, State 0\n",
      "Permutation 44, State 1\n",
      "Permutation 45, State 0\n",
      "Permutation 45, State 1\n",
      "Permutation 46, State 0\n",
      "Permutation 46, State 1\n",
      "Permutation 47, State 0\n",
      "Permutation 47, State 1\n",
      "Permutation 48, State 0\n",
      "Permutation 48, State 1\n",
      "Permutation 49, State 0\n",
      "Permutation 49, State 1\n",
      "Permutation 50, State 0\n",
      "Permutation 50, State 1\n",
      "Permutation 51, State 0\n",
      "Permutation 51, State 1\n",
      "Permutation 52, State 0\n",
      "Permutation 52, State 1\n",
      "Permutation 53, State 0\n",
      "Permutation 53, State 1\n",
      "Permutation 54, State 0\n",
      "Permutation 54, State 1\n",
      "Permutation 55, State 0\n",
      "Permutation 55, State 1\n",
      "Permutation 56, State 0\n",
      "Permutation 56, State 1\n",
      "Permutation 57, State 0\n",
      "Permutation 57, State 1\n",
      "Permutation 58, State 0\n",
      "Permutation 58, State 1\n",
      "Permutation 59, State 0\n",
      "Permutation 59, State 1\n",
      "Permutation 60, State 0\n",
      "Permutation 60, State 1\n",
      "Permutation 61, State 0\n",
      "Permutation 61, State 1\n",
      "Permutation 62, State 0\n",
      "Permutation 62, State 1\n",
      "Permutation 63, State 0\n",
      "Permutation 63, State 1\n",
      "Permutation 64, State 0\n",
      "Permutation 64, State 1\n",
      "Permutation 65, State 0\n",
      "Permutation 65, State 1\n",
      "Permutation 66, State 0\n",
      "Permutation 66, State 1\n",
      "Permutation 67, State 0\n",
      "Permutation 67, State 1\n",
      "Permutation 68, State 0\n",
      "Permutation 68, State 1\n",
      "Permutation 69, State 0\n",
      "Permutation 69, State 1\n",
      "Permutation 70, State 0\n",
      "Permutation 70, State 1\n",
      "Permutation 71, State 0\n",
      "Permutation 71, State 1\n",
      "Permutation 72, State 0\n",
      "Permutation 72, State 1\n",
      "Permutation 73, State 0\n",
      "Permutation 73, State 1\n",
      "Permutation 74, State 0\n",
      "Permutation 74, State 1\n",
      "Permutation 75, State 0\n",
      "Permutation 75, State 1\n",
      "Permutation 76, State 0\n",
      "Permutation 76, State 1\n",
      "Permutation 77, State 0\n",
      "Permutation 77, State 1\n",
      "Permutation 78, State 0\n",
      "Permutation 78, State 1\n",
      "Permutation 79, State 0\n",
      "Permutation 79, State 1\n",
      "Permutation 80, State 0\n",
      "Permutation 80, State 1\n",
      "Permutation 81, State 0\n",
      "Permutation 81, State 1\n",
      "Permutation 82, State 0\n",
      "Permutation 82, State 1\n",
      "Permutation 83, State 0\n",
      "Permutation 83, State 1\n",
      "Permutation 84, State 0\n",
      "Permutation 84, State 1\n",
      "Permutation 85, State 0\n",
      "Permutation 85, State 1\n",
      "Permutation 86, State 0\n",
      "Permutation 86, State 1\n",
      "Permutation 87, State 0\n",
      "Permutation 87, State 1\n",
      "Permutation 88, State 0\n",
      "Permutation 88, State 1\n",
      "Permutation 89, State 0\n",
      "Permutation 89, State 1\n",
      "Permutation 90, State 0\n",
      "Permutation 90, State 1\n",
      "Permutation 91, State 0\n",
      "Permutation 91, State 1\n",
      "Permutation 92, State 0\n",
      "Permutation 92, State 1\n",
      "Permutation 93, State 0\n",
      "Permutation 93, State 1\n",
      "Permutation 94, State 0\n",
      "Permutation 94, State 1\n",
      "Permutation 95, State 0\n",
      "Permutation 95, State 1\n",
      "Permutation 96, State 0\n",
      "Permutation 96, State 1\n",
      "Permutation 97, State 0\n",
      "Permutation 97, State 1\n",
      "Permutation 98, State 0\n",
      "Permutation 98, State 1\n",
      "Permutation 99, State 0\n",
      "Permutation 99, State 1\n"
     ]
    }
   ],
   "source": [
    "# Permutation analysis\n",
    "n_perm = 100\n",
    "BIC_permuted = []\n",
    "\n",
    "for perm_idx in range(n_perm):\n",
    "    permuted_choices = []\n",
    "    permuted_inpts = []\n",
    "    \n",
    "    for i in range(len(choices)):\n",
    "        perm_indices = np.random.permutation(choices[i].shape[0])\n",
    "        permuted_choices.append(choices[i][perm_indices])\n",
    "        permuted_inpts.append(inpts[i][perm_indices])\n",
    "    \n",
    "    for state_idx in range(max_num_states):\n",
    "        print(f\"Permutation {perm_idx}, State {state_idx}\")\n",
    "        permuted_glmhmm = HMM(state_idx + 1, obs_dim, input_dim, \n",
    "                                  observations=\"input_driven_obs\", \n",
    "                                  observation_kwargs=dict(C=num_categories, prior_sigma=prior_sigma), \n",
    "                                  transitions=\"sticky\", \n",
    "                                  transition_kwargs=dict(alpha=transition_alpha, kappa=0))\n",
    "\n",
    "        _ = permuted_glmhmm.fit(permuted_choices, inputs=permuted_inpts, method=\"em\", num_iters=N_iters, initialize=True, tolerance=10**-4, verbose=False)\n",
    "\n",
    "        n_total_params = np.concatenate(permuted_glmhmm.observations.params).size + np.concatenate(permuted_glmhmm.transitions.params).size\n",
    "\n",
    "        # Compute log likelihood\n",
    "        log_likelihood = permuted_glmhmm.log_likelihood(permuted_choices, inputs=permuted_inpts)\n",
    "\n",
    "        # Compute BIC\n",
    "        new_BIC = np.log(len(flattened_choices)) * n_total_params - 2 * log_likelihood\n",
    "        BIC_permuted.append({'perm_idx': perm_idx, 'state_idx': state_idx + 1, 'BIC': new_BIC})\n",
    "\n",
    "df_BIC_permuted = pd.DataFrame(BIC_permuted)\n",
    "if save_data:\n",
    "    df_BIC_permuted.to_csv(root_dir + '/HMM/BIC_permuted_across_models.csv', index=False)"
   ]
  },
  {
   "cell_type": "code",
   "execution_count": 109,
   "metadata": {},
   "outputs": [
    {
     "data": {
      "image/png": "[encoded data removed]",
      "text/plain": [
       "<Figure size 640x480 with 1 Axes>"
      ]
     },
     "metadata": {},
     "output_type": "display_data"
    },
    {
     "name": "stdout",
     "output_type": "stream",
     "text": [
      "[-94.54159353]\n"
     ]
    }
   ],
   "source": [
    "# Average BIC across permutations\n",
    "df_BIC_permuted_avg = df_BIC_permuted.groupby('state_idx').agg({'BIC': 'mean'}).reset_index()\n",
    "\n",
    "# Plotting\n",
    "plt.plot(df_BIC['num_states'], df_BIC['BIC'], label='Original Data')\n",
    "plt.plot(df_BIC_permuted_avg['state_idx'], df_BIC_permuted_avg['BIC'], label='Permuted Data (Avg)', linestyle='--')\n",
    "plt.xlabel('Number of States')\n",
    "plt.ylabel('BIC')\n",
    "plt.legend()\n",
    "plt.title('BIC Comparison Between Original and Permuted Data')\n",
    "plt.show()\n",
    "\n",
    "# Compute differences in BIC for original data\n",
    "bic_diff = np.diff(df_BIC['BIC'])\n",
    "print(bic_diff)"
   ]
  },
  {
   "cell_type": "markdown",
   "metadata": {},
   "source": [
    "# Fit two-state GLM-HMMs "
   ]
  },
  {
   "cell_type": "code",
   "execution_count": 112,
   "metadata": {},
   "outputs": [
    {
     "name": "stdout",
     "output_type": "stream",
     "text": [
      "0\n",
      "1\n",
      "2\n",
      "3\n",
      "4\n",
      "5\n",
      "6\n",
      "7\n",
      "8\n",
      "9\n"
     ]
    }
   ],
   "source": [
    "npr.seed(0)\n",
    "# Set the parameters of the GLM-HMM\n",
    "num_states =  2      # number of discrete states\n",
    "obs_dim = 1           # number of observed dimensions\n",
    "num_categories = 2    # number of categories for output\n",
    "input_dim = 3 #2      # input dimensions\n",
    "\n",
    "N_iters = 500 # maximum number of EM iterations. Fitting with stop earlier if increase in LL is below tolerance specified by tolerance parameter\n",
    "# Make a GLM-HMM\n",
    "\n",
    "prior_sigma = 10\n",
    "transition_alpha = 1\n",
    "\n",
    "n_iter = 10\n",
    "#parameters_ext_int = np.full([n_iter, 8], np.nan)\n",
    "parameters_ext_int = np.full([n_iter, 10], np.nan)\n",
    "for idx in range(n_iter):\n",
    "    print(idx)\n",
    "    glmhmm = HMM(num_states, obs_dim, input_dim, \n",
    "                        observations=\"input_driven_obs\", \n",
    "                        observation_kwargs=dict(C=num_categories, prior_sigma=prior_sigma), \n",
    "                        transitions=\"sticky\", \n",
    "                        transition_kwargs=dict(alpha=transition_alpha, kappa=0))\n",
    "    \n",
    "    #glmhmm.observations.params =  np.tile(params_for_initalization, (num_states,1)).reshape(num_states, 1, 3)\n",
    "    _ = glmhmm.fit(choices, inputs=inpts, method=\"em\", num_iters=N_iters, initialize = True, tolerance=10**-4, verbose = False)\n",
    "   \n",
    "    index_ext = np.argmax(np.concatenate(-glmhmm.observations.params)[:,0])\n",
    "    index_int = np.argmin(np.concatenate(-glmhmm.observations.params)[:,0])\n",
    "    parameters_ext_int[idx,] = np.concatenate((-glmhmm.observations.params[index_ext,:], -glmhmm.observations.params[index_int,:], glmhmm.transitions.params[0].reshape(1,4)), axis = 1)\n",
    "    del(glmhmm)\n"
   ]
  },
  {
   "cell_type": "markdown",
   "metadata": {},
   "source": [
    "en gros, ext c'est pour la phase externale, int pour la phase internale où les coefs sont moins importants"
   ]
  },
  {
   "cell_type": "code",
   "execution_count": 114,
   "metadata": {},
   "outputs": [],
   "source": [
    "\n",
    "df_two_state_init = pd.DataFrame(parameters_ext_int, columns = ['theta_ext', 'prev_resp_ext', \"bias_ext\",\n",
    "                                                                'theta_int', 'prev_resp_int', \"bias_int\",\n",
    "                                                                 'AA', 'AB', 'BA', 'BB'])\n"
   ]
  },
  {
   "cell_type": "code",
   "execution_count": 115,
   "metadata": {},
   "outputs": [],
   "source": [
    "if save_data:\n",
    "    df_two_state_init.to_csv(root_dir + '/HMM/two_state_init_param.csv', index = False)"
   ]
  },
  {
   "cell_type": "code",
   "execution_count": 116,
   "metadata": {},
   "outputs": [
    {
     "data": {
      "text/plain": [
       "theta_ext        1.089778\n",
       "prev_resp_ext    0.195589\n",
       "bias_ext        -0.434407\n",
       "theta_int        1.008943\n",
       "prev_resp_int   -0.016633\n",
       "bias_int         0.778402\n",
       "AA              -0.025184\n",
       "AB              -3.695993\n",
       "BA              -3.674819\n",
       "BB              -0.025738\n",
       "dtype: float64"
      ]
     },
     "execution_count": 116,
     "metadata": {},
     "output_type": "execute_result"
    }
   ],
   "source": [
    "df_two_state_init.mean()"
   ]
  },
  {
   "cell_type": "code",
   "execution_count": 126,
   "metadata": {},
   "outputs": [],
   "source": [
    "df_two_state_init = pd.read_csv(root_dir + '/HMM/two_state_init_param.csv')\n",
    "param_init_ext_int = df_two_state_init.mean().values\n",
    "\n",
    "#recovered_weights = -param_init_ext_int[0:4].reshape(2,1,2)\n",
    "#recovered_trans_mat = np.exp(param_init_ext_int[4:8].reshape(2,2))\n",
    "recovered_weights = -param_init_ext_int[0:6].reshape(2,1,3)\n",
    "recovered_trans_mat = np.exp(param_init_ext_int[6:10].reshape(2,2))"
   ]
  },
  {
   "cell_type": "code",
   "execution_count": null,
   "metadata": {},
   "outputs": [
    {
     "data": {
      "text/plain": [
       "Text(0.5, 1.0, 'Weight recovery')"
      ]
     },
     "execution_count": 130,
     "metadata": {},
     "output_type": "execute_result"
    },
    {
     "data": {
      "image/png": "[encoded data removed]",
      "text/plain": [
       "<Figure size 320x240 with 1 Axes>"
      ]
     },
     "metadata": {},
     "output_type": "display_data"
    }
   ],
   "source": [
    "fig = plt.figure(figsize=(4, 3), dpi=80, facecolor='w', edgecolor='k')\n",
    "cols = ['#ff7f00', '#4daf4a', '#377eb8',  '#8B0000', '#000000']\n",
    "for k in range(num_states):\n",
    "    if k==0:\n",
    "        plt.plot(range(input_dim), -recovered_weights[k][0], color=cols[k],\n",
    "                     lw=1.5,  label = \"estimated\", linestyle = '--')\n",
    "    else:\n",
    "        plt.plot(range(input_dim), -recovered_weights[k][0], color=cols[k],\n",
    "                     lw=1.5,  label = '', linestyle = '--')\n",
    "plt.yticks(fontsize=10)\n",
    "plt.ylabel(\"GLM weight\", fontsize=15)\n",
    "plt.xlabel(\"covariate\", fontsize=15)\n",
    "plt.xticks([0, 1, 2], ['theta', 'prev_resp', 'bias'], fontsize=12, rotation=45)\n",
    "#plt.xticks([0, 1], ['theta', 'prev_resp', 'bias'], fontsize=12, rotation=45)\n",
    "plt.axhline(y=0, color=\"k\", alpha=0.5, ls=\"--\")\n",
    "plt.legend()\n",
    "plt.title(\"Weight recovery\", fontsize=15)"
   ]
  },
  {
   "cell_type": "markdown",
   "metadata": {},
   "source": [
    "on voit que la previous response n'a pas de poids dans le state n1."
   ]
  },
  {
   "cell_type": "code",
   "execution_count": 131,
   "metadata": {},
   "outputs": [
    {
     "data": {
      "image/png": "[encoded data removed]",
      "text/plain": [
       "<Figure size 400x200 with 1 Axes>"
      ]
     },
     "metadata": {},
     "output_type": "display_data"
    }
   ],
   "source": [
    "fig = plt.figure(figsize=(5, 2.5), dpi=80, facecolor='w', edgecolor='k')\n",
    "plt.imshow(recovered_trans_mat, vmin=-0.8, vmax=1, cmap='bone')\n",
    "for i in range(recovered_trans_mat.shape[0]):\n",
    "    for j in range(recovered_trans_mat.shape[1]):\n",
    "        text = plt.text(j, i, str(np.around(recovered_trans_mat[i, j], decimals=2)), ha=\"center\", va=\"center\",\n",
    "                        color=\"k\", fontsize=12)\n",
    "plt.xlim(-0.5, num_states - 0.5)\n",
    "plt.xticks(range(0, num_states), ('1', '2'), fontsize=10)\n",
    "plt.yticks(range(0, num_states), ('1', '2'), fontsize=10)\n",
    "plt.ylim(num_states - 0.5, -0.5)\n",
    "plt.title(\"recovered\", fontsize = 15)\n",
    "plt.subplots_adjust(0, 0, 1, 1)"
   ]
  },
  {
   "cell_type": "markdown",
   "metadata": {},
   "source": [
    "## Posterior State Probabilities"
   ]
  },
  {
   "cell_type": "markdown",
   "metadata": {},
   "source": [
    "Let's now plot $p(z_{t} = k|\\mathbf{y}, \\{u_{t}\\}_{t=1}^{T})$, the posterior state probabilities, which give the probability of the animal being in state k at trial t."
   ]
  },
  {
   "cell_type": "code",
   "execution_count": 136,
   "metadata": {},
   "outputs": [
    {
     "name": "stdout",
     "output_type": "stream",
     "text": [
      "[[[ 1.08864867  0.19517322 -0.42712389]]\n",
      "\n",
      " [[ 1.00945859 -0.01985134  0.78795393]]]\n"
     ]
    }
   ],
   "source": [
    "# run average model\n",
    "prior_sigma = 10\n",
    "\n",
    "glmhmm = HMM(num_states, obs_dim, input_dim, \n",
    "                        observations=\"input_driven_obs\", \n",
    "                        observation_kwargs=dict(C=num_categories, prior_sigma=prior_sigma), \n",
    "                        transitions=\"sticky\", \n",
    "                        transition_kwargs=dict(alpha=transition_alpha, kappa=0))\n",
    "        \n",
    "glmhmm.init_state_distn.params = np.log([0.5, 0.5, 0.5])\n",
    "#glmhmm.observations.params = -param_init_ext_int[0:4].reshape(2,1,2)\n",
    "#glmhmm.transitions.params = (param_init_ext_int[4:8].reshape(2,2),)\n",
    "\n",
    "glmhmm.observations.params = -param_init_ext_int[0:6].reshape(2,1,3)\n",
    "glmhmm.transitions.params = (param_init_ext_int[6:10].reshape(2,2),)\n",
    "\n",
    "_ = glmhmm.fit(choices, inputs=inpts, method=\"em\", num_iters=N_iters, initialize = False, tolerance=10**-4, verbose = False)\n",
    "print(-glmhmm.observations.params)\n",
    "index_ext = np.argmax(np.concatenate(-glmhmm.observations.params)[:,0])\n",
    "index_int = np.argmin(np.concatenate(-glmhmm.observations.params)[:,0])"
   ]
  },
  {
   "cell_type": "code",
   "execution_count": 137,
   "metadata": {},
   "outputs": [],
   "source": [
    "# Get expected states:\n",
    "posterior_probs = [glmhmm.expected_states(data=data, input=inpt)[0]\n",
    "                for data, inpt\n",
    "                in zip(choices, inpts)]"
   ]
  },
  {
   "cell_type": "code",
   "execution_count": 138,
   "metadata": {},
   "outputs": [
    {
     "data": {
      "text/plain": [
       "Text(0, 0.5, 'p(state)')"
      ]
     },
     "execution_count": 138,
     "metadata": {},
     "output_type": "execute_result"
    },
    {
     "data": {
      "image/png": "[encoded data removed]",
      "text/plain": [
       "<Figure size 400x200 with 1 Axes>"
      ]
     },
     "metadata": {},
     "output_type": "display_data"
    }
   ],
   "source": [
    "fig = plt.figure(figsize=(5, 2.5), dpi=80, facecolor='w', edgecolor='k')\n",
    "sess_id = 1 #session id; can choose any index between 0 and num_sess-1\n",
    "for k in range(num_states):\n",
    "    plt.plot(posterior_probs[sess_id][1:1500, k], label=\"State \" + str(k + 1), lw=2,\n",
    "             color=cols[k])\n",
    "plt.ylim((-0.01, 1.01))\n",
    "plt.yticks([0, 0.5, 1], fontsize = 10)\n",
    "plt.xlabel(\"trial #\", fontsize = 15)\n",
    "plt.ylabel(\"p(state)\", fontsize = 15)"
   ]
  },
  {
   "cell_type": "markdown",
   "metadata": {},
   "source": [
    "With these posterior state probabilities, we can assign trials to states and then plot the fractional occupancy of each state:"
   ]
  },
  {
   "cell_type": "code",
   "execution_count": 139,
   "metadata": {},
   "outputs": [],
   "source": [
    "# concatenate posterior probabilities across sessions\n",
    "posterior_probs_concat = np.concatenate(posterior_probs)\n",
    "# get state with maximum posterior probability at particular trial:\n",
    "state_max_posterior = np.argmax(posterior_probs_concat, axis = 1)\n",
    "# now obtain state fractional occupancies:\n",
    "_, state_occupancies = np.unique(state_max_posterior, return_counts=True)\n",
    "state_occupancies = state_occupancies/np.sum(state_occupancies)"
   ]
  },
  {
   "cell_type": "code",
   "execution_count": 140,
   "metadata": {},
   "outputs": [
    {
     "data": {
      "text/plain": [
       "Text(0, 0.5, 'frac. occupancy')"
      ]
     },
     "execution_count": 140,
     "metadata": {},
     "output_type": "execute_result"
    },
    {
     "data": {
      "image/png": "[encoded data removed]",
      "text/plain": [
       "<Figure size 160x200 with 1 Axes>"
      ]
     },
     "metadata": {},
     "output_type": "display_data"
    }
   ],
   "source": [
    "fig = plt.figure(figsize=(2, 2.5), dpi=80, facecolor='w', edgecolor='k')\n",
    "for z, occ in enumerate(state_occupancies):\n",
    "    plt.bar(z, occ, width = 0.8, color = cols[z])\n",
    "plt.ylim((0, 1))\n",
    "plt.xticks([0, 1, 2], ['1', '2', '3'], fontsize = 10)\n",
    "plt.yticks([0, 0.5, 1], ['0', '0.5', '1'], fontsize=10)\n",
    "plt.xlabel('state', fontsize = 15)\n",
    "plt.ylabel('frac. occupancy', fontsize=15)"
   ]
  },
  {
   "cell_type": "code",
   "execution_count": 141,
   "metadata": {},
   "outputs": [],
   "source": [
    "final_df = final_df.assign(Gl_Prob_State_ext = posterior_probs_concat[:,index_ext])\n",
    "final_df = final_df.assign(Gl_Prob_State_int = posterior_probs_concat[:,index_int])\n",
    "\n",
    "if save_data:\n",
    "    final_df.to_csv(root_dir + '/Full_Data.csv', index = False)"
   ]
  }
 ],
 "metadata": {
  "kernelspec": {
   "display_name": "base",
   "language": "python",
   "name": "python3"
  },
  "language_info": {
   "codemirror_mode": {
    "name": "ipython",
    "version": 3
   },
   "file_extension": ".py",
   "mimetype": "text/x-python",
   "name": "python",
   "nbconvert_exporter": "python",
   "pygments_lexer": "ipython3",
   "version": "3.12.4"
  }
 },
 "nbformat": 4,
 "nbformat_minor": 4
}
