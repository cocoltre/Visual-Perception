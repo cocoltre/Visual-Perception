{
 "cells": [
  {
   "cell_type": "markdown",
   "metadata": {},
   "source": [
    "# Setup"
   ]
  },
  {
   "cell_type": "code",
   "execution_count": 1,
   "metadata": {},
   "outputs": [
    {
     "name": "stderr",
     "output_type": "stream",
     "text": [
      "/opt/miniconda3/lib/python3.12/site-packages/tqdm/auto.py:21: TqdmWarning: IProgress not found. Please update jupyter and ipywidgets. See https://ipywidgets.readthedocs.io/en/stable/user_install.html\n",
      "  from .autonotebook import tqdm as notebook_tqdm\n"
     ]
    }
   ],
   "source": [
    "import numpy as np\n",
    "import numpy.random as npr\n",
    "import matplotlib.pyplot as plt\n",
    "from ssm import *\n",
    "#from ssm.ssm.files.util import find_permutation\n",
    "import pandas as pd\n",
    "import os\n",
    "npr.seed(0)"
   ]
  },
  {
   "cell_type": "code",
   "execution_count": 2,
   "metadata": {},
   "outputs": [],
   "source": [
    "root_dir = '/Users/colineleteurtre/Library/CloudStorage/OneDrive-Personnel/Documents/cours/EPFL/MA2/projet_sem/visual-perception'\n",
    "root_dir = os.getcwd()\n",
    "\n",
    "### what to do\n",
    "save_data = True"
   ]
  },
  {
   "cell_type": "markdown",
   "metadata": {},
   "source": [
    "## Initialize GLM-HMM"
   ]
  },
  {
   "cell_type": "markdown",
   "metadata": {},
   "source": [
    "## Load and prepare inputs"
   ]
  },
  {
   "cell_type": "code",
   "execution_count": 9,
   "metadata": {},
   "outputs": [],
   "source": [
    "### read and data \n",
    "dfs = []\n",
    "columns_to_keep = ['theta', 'resp', 'block']\n",
    "\n",
    "for i in range (5):\n",
    "    df = {}\n",
    "    df[i+1] = pd.read_csv(f'{root_dir}/Data/00{i+1}/00{i+1}.csv')[columns_to_keep]\n",
    "    df[i+1]['ID'] = i+1  \n",
    "    df[i+1]['prev_resp'] = df[i+1].groupby('block')['resp'].shift(1, fill_value=0)\n",
    "    dfs.append(df[i+1])\n",
    "\n",
    "final_df = pd.concat(dfs, ignore_index=True)\n",
    "final_df = final_df[['ID', 'block', 'theta', 'prev_resp', 'resp']]\n",
    "final_df['resp'] = final_df['resp'].replace(-1, 0)\n",
    "final_df.to_csv(root_dir + '/Full_Data.csv', index=False)"
   ]
  },
  {
   "cell_type": "code",
   "execution_count": null,
   "metadata": {},
   "outputs": [],
   "source": [
    "isi,block,trial,isi_ms,isi_frames,theta,log_cnt,resp,rt,stim_duration,blank_duration,cnt,correct\n",
    "33,1,1,640,64,-45,-1.8546873026985,-1,0.546695,0.0482276000002457,0.645238199999767,0.0139737412527265,1"
   ]
  },
  {
   "cell_type": "code",
   "execution_count": 12,
   "metadata": {},
   "outputs": [
    {
     "name": "stdout",
     "output_type": "stream",
     "text": [
      "ID: [1, 2, 3, 4, 5]\n",
      "block: [1, 2, 3, 4, 5, 6, 7, 8, 9, 10]\n",
      "theta: [-45, 45]\n",
      "prev_resp: [0, -1, 1]\n",
      "resp: [0, 1]\n"
     ]
    }
   ],
   "source": [
    "summary = {}\n",
    "for col in final_df.columns:\n",
    "    unique_values = final_df[col].unique()\n",
    "    summary[col] = unique_values.tolist()\n",
    "for col, types in summary.items():\n",
    "    print(f\"{col}: {types}\")"
   ]
  },
  {
   "cell_type": "code",
   "execution_count": 13,
   "metadata": {},
   "outputs": [],
   "source": [
    "### Set the parameters of the GLM-HMM\n",
    "obs_dim = 1           # number of observed dimensions\n",
    "num_categories = 2    # number of categories for output\n",
    "input_dim = 2        # input dimensions\n",
    "N_iters = 500"
   ]
  },
  {
   "cell_type": "code",
   "execution_count": 15,
   "metadata": {},
   "outputs": [],
   "source": [
    "inpts = []\n",
    "choices = []\n",
    "participants = final_df[\"ID\"].unique()\n",
    "\n",
    "for load_idx in participants:\n",
    "    this_data = final_df.loc[final_df['ID'] == load_idx].copy()\n",
    "        ## start with estimating the experiment as a whole\n",
    "    num_sess = 1\n",
    "    num_trials_per_sess = len(this_data)\n",
    "\n",
    "    new_inpts = []\n",
    "    new_choices = []\n",
    "\n",
    "    new_inpts = np.ones((num_trials_per_sess, input_dim))\n",
    "\n",
    "    ## get input format\n",
    "    new_inpts[:, 0] = this_data['theta'].copy()\n",
    "    new_inpts[:, 1] = this_data['prev_resp'].copy()\n",
    "    #new_inpts[:, 2] = this_data['previous_contrast'].copy()\n",
    "    #new_inpts[:, 2] = np.ones(this_data.shape[0])\n",
    "    inpts.append(new_inpts)\n",
    "\n",
    "    new_choices = this_data['resp'].copy()\n",
    "    new_choices = np.atleast_2d(new_choices).T\n",
    "    choices.append(new_choices) "
   ]
  },
  {
   "cell_type": "markdown",
   "metadata": {},
   "source": [
    "## Fit at group-level in one-state GLM-HMM"
   ]
  },
  {
   "cell_type": "code",
   "execution_count": 16,
   "metadata": {},
   "outputs": [
    {
     "name": "stdout",
     "output_type": "stream",
     "text": [
      "((array([-0.]),), (array([[0.]]),), array([[[0.74159174, 1.55291372]]]))\n",
      "((array([-0.]),), (array([[0.]]),), array([[[ 1.86755799, -0.97727788]]]))\n",
      "((array([-0.]),), (array([[0.]]),), array([[[ 1.26611853, -0.50587654]]]))\n",
      "((array([-0.]),), (array([[0.]]),), array([[[0.76103773, 0.12167502]]]))\n",
      "((array([-0.]),), (array([[0.]]),), array([[[0.48431215, 0.57914048]]]))\n",
      "((array([-0.]),), (array([[0.]]),), array([[[ 1.49407907, -0.20515826]]]))\n",
      "((array([-0.]),), (array([[0.]]),), array([[[-0.96075461,  0.37692697]]]))\n",
      "((array([-0.]),), (array([[0.]]),), array([[[-2.55298982,  0.6536186 ]]]))\n",
      "((array([-0.]),), (array([[0.]]),), array([[[-0.24214951,  1.51439128]]]))\n",
      "((array([-0.]),), (array([[0.]]),), array([[[ 0.04575852, -0.18718385]]]))\n",
      "((array([-0.]),), (array([[0.]]),), array([[[0.56644004, 0.14926509]]]))\n",
      "((array([-0.]),), (array([[0.]]),), array([[[-0.88778575, -1.98079647]]]))\n",
      "((array([-0.]),), (array([[0.]]),), array([[[ 0.17538653, -0.46250554]]]))\n",
      "((array([-0.]),), (array([[0.]]),), array([[[-0.38732682, -0.30230275]]]))\n",
      "((array([-0.]),), (array([[0.]]),), array([[[ 0.99571135, -1.93320478]]]))\n",
      "((array([-0.]),), (array([[0.]]),), array([[[-0.50965218, -0.4380743 ]]]))\n",
      "((array([-0.]),), (array([[0.]]),), array([[[-0.22593966, -1.65457077]]]))\n",
      "((array([-0.]),), (array([[0.]]),), array([[[-0.89546656,  0.3869025 ]]]))\n",
      "((array([-0.]),), (array([[0.]]),), array([[[ 1.11971196, -0.45792242]]]))\n",
      "((array([-0.]),), (array([[0.]]),), array([[[-0.02818223,  0.42833187]]]))\n",
      "((array([-0.]),), (array([[0.]]),), array([[[1.47598983, 0.6467801 ]]]))\n",
      "((array([-0.]),), (array([[0.]]),), array([[[-0.63432209, -0.36274117]]]))\n",
      "((array([-0.]),), (array([[0.]]),), array([[[-0.35362786, -0.74074747]]]))\n",
      "((array([-0.]),), (array([[0.]]),), array([[[ 0.17742614, -0.40178094]]]))\n",
      "((array([-0.]),), (array([[0.]]),), array([[[ 0.17100044, -1.72567135]]]))\n",
      "((array([-0.]),), (array([[0.]]),), array([[[0.72909056, 0.12898291]]]))\n",
      "((array([-0.]),), (array([[0.]]),), array([[[-0.83833097,  0.38116374]]]))\n",
      "((array([-0.]),), (array([[0.]]),), array([[[-0.87079715, -0.57884966]]]))\n",
      "((array([-0.]),), (array([[0.]]),), array([[[ 0.92525075, -0.90478616]]]))\n",
      "((array([-0.]),), (array([[0.]]),), array([[[ 0.46566244, -1.53624369]]]))\n",
      "((array([-0.]),), (array([[0.]]),), array([[[-1.44553558,  0.37716061]]]))\n",
      "((array([-0.]),), (array([[0.]]),), array([[[ 1.17877957, -0.17992484]]]))\n",
      "((array([-0.]),), (array([[0.]]),), array([[[ 0.90751962, -0.58582287]]]))\n",
      "((array([-0.]),), (array([[0.]]),), array([[[0.20827498, 0.97663904]]]))\n",
      "((array([-0.]),), (array([[0.]]),), array([[[1.09964197, 0.93989698]]]))\n",
      "((array([-0.]),), (array([[0.]]),), array([[[0.12691209, 0.40198936]]]))\n",
      "((array([-0.]),), (array([[0.]]),), array([[[-0.24107359,  0.05334491]]]))\n",
      "((array([-0.]),), (array([[0.]]),), array([[[-1.270485  ,  0.96939671]]]))\n",
      "((array([-0.]),), (array([[0.]]),), array([[[-1.070215  , -0.20912862]]]))\n",
      "((array([-0.]),), (array([[0.]]),), array([[[1.92294203, 1.48051479]]]))\n",
      "((array([-0.]),), (array([[0.]]),), array([[[1.29137792, 1.30069627]]]))\n",
      "((array([-0.]),), (array([[0.]]),), array([[[-0.26800337,  0.8024564 ]]]))\n",
      "((array([-0.]),), (array([[0.]]),), array([[[0.08973073, 0.11485388]]]))\n",
      "((array([-0.]),), (array([[0.]]),), array([[[ 0.37642553, -1.09940079]]]))\n",
      "((array([-0.]),), (array([[0.]]),), array([[[0.36042727, 0.40814812]]]))\n",
      "((array([-0.]),), (array([[0.]]),), array([[[-0.69456786, -0.14963454]]]))\n",
      "((array([-0.]),), (array([[0.]]),), array([[[ 1.74025346, -0.36408678]]]))\n",
      "((array([-0.]),), (array([[0.]]),), array([[[-0.76991607,  0.53924919]]]))\n",
      "((array([-0.]),), (array([[0.]]),), array([[[-0.66110423, -1.18019102]]]))\n",
      "((array([-0.]),), (array([[0.]]),), array([[[ 0.39600671, -1.09306151]]]))\n",
      "((array([-0.]),), (array([[0.]]),), array([[[0.71422382, 2.28433335]]]))\n",
      "((array([-0.]),), (array([[0.]]),), array([[[-0.91282223,  1.11701629]]]))\n",
      "((array([-0.]),), (array([[0.]]),), array([[[-0.581673  , -0.53783395]]]))\n",
      "((array([-0.]),), (array([[0.]]),), array([[[-0.06824161,  1.71334272]]]))\n",
      "((array([-0.]),), (array([[0.]]),), array([[[-1.81127879, -0.63117522]]]))\n",
      "((array([-0.]),), (array([[0.]]),), array([[[-1.14746865, -0.43782004]]]))\n",
      "((array([-0.]),), (array([[0.]]),), array([[[ 0.19549934, -0.47160433]]]))\n",
      "((array([-0.]),), (array([[0.]]),), array([[[0.94942081, 0.08755124]]]))\n",
      "((array([-0.]),), (array([[0.]]),), array([[[ 0.65120935, -1.13049645]]]))\n",
      "((array([-0.]),), (array([[0.]]),), array([[[-1.00021535, -1.5447711 ]]]))\n",
      "((array([-0.]),), (array([[0.]]),), array([[[0.42441246, 1.08930905]]]))\n",
      "((array([-0.]),), (array([[0.]]),), array([[[ 0.85683061, -0.65102559]]]))\n",
      "((array([-0.]),), (array([[0.]]),), array([[[0.10834955, 0.26166848]]]))\n",
      "((array([-0.]),), (array([[0.]]),), array([[[-0.80340966, -0.68954978]]]))\n",
      "((array([-0.]),), (array([[0.]]),), array([[[-1.90058426, -1.1375792 ]]]))\n",
      "((array([-0.]),), (array([[0.]]),), array([[[ 0.62523145, -1.60205766]]]))\n",
      "((array([-0.]),), (array([[0.]]),), array([[[ 0.04690446, -1.03224304]]]))\n",
      "((array([-0.]),), (array([[0.]]),), array([[[-0.739563 ,  1.5430146]]]))\n",
      "((array([-0.]),), (array([[0.]]),), array([[[-0.3320304, -0.2961004]]]))\n",
      "((array([-0.]),), (array([[0.]]),), array([[[ 0.52327666, -0.17154633]]]))\n",
      "((array([-0.]),), (array([[0.]]),), array([[[0.39230806, 0.24163481]]]))\n",
      "((array([-0.]),), (array([[0.]]),), array([[[2.16323595, 1.33652795]]]))\n",
      "((array([-0.]),), (array([[0.]]),), array([[[-0.99756754, -0.80003821]]]))\n",
      "((array([-0.]),), (array([[0.]]),), array([[[1.0996596 , 0.65526373]]]))\n",
      "((array([-0.]),), (array([[0.]]),), array([[[-0.67278478,  0.1333245 ]]]))\n",
      "((array([-0.]),), (array([[0.]]),), array([[[ 0.2799246 , -0.09815039]]]))\n",
      "((array([-0.]),), (array([[0.]]),), array([[[0.52198773, 1.19725986]]]))\n",
      "((array([-0.]),), (array([[0.]]),), array([[[ 0.78632796, -0.4664191 ]]]))\n",
      "((array([-0.]),), (array([[0.]]),), array([[[-0.42389623, -3.51476812]]]))\n",
      "((array([-0.]),), (array([[0.]]),), array([[[-0.955945  , -0.34598178]]]))\n",
      "((array([-0.]),), (array([[0.]]),), array([[[ 0.05037072, -1.38021088]]]))\n",
      "((array([-0.]),), (array([[0.]]),), array([[[0.15650654, 0.23218104]]]))\n",
      "((array([-0.]),), (array([[0.]]),), array([[[-0.16915725, -0.76391367]]]))\n",
      "((array([-0.]),), (array([[0.]]),), array([[[-0.54286148,  0.41605005]]]))\n",
      "((array([-0.]),), (array([[0.]]),), array([[[ 0.26396031, -0.62964191]]]))\n",
      "((array([-0.]),), (array([[0.]]),), array([[[ 1.49448454, -2.06998503]]]))\n",
      "((array([-0.]),), (array([[0.]]),), array([[[-0.94035354,  0.92959433]]]))\n",
      "((array([-0.]),), (array([[0.]]),), array([[[-0.13288058, -0.29779088]]]))\n",
      "((array([-0.]),), (array([[0.]]),), array([[[ 1.92134696, -0.45978052]]]))\n",
      "((array([-0.]),), (array([[0.]]),), array([[[-0.81336426, -1.46642433]]]))\n",
      "((array([-0.]),), (array([[0.]]),), array([[[1.00924453, 0.71338957]]]))\n",
      "((array([-0.]),), (array([[0.]]),), array([[[-0.72559738, -1.38336396]]]))\n",
      "((array([-0.]),), (array([[0.]]),), array([[[-0.79618584, -1.40054127]]]))\n",
      "((array([-0.]),), (array([[0.]]),), array([[[-0.59631404, -0.0525673 ]]]))\n",
      "((array([-0.]),), (array([[0.]]),), array([[[ 0.03625974, -0.81440556]]]))\n",
      "((array([-0.]),), (array([[0.]]),), array([[[0.52389102, 0.08842209]]]))\n",
      "((array([-0.]),), (array([[0.]]),), array([[[-0.07392347, -0.49351757]]]))\n",
      "((array([-0.]),), (array([[0.]]),), array([[[1.95591231, 0.39009332]]]))\n",
      "((array([-0.]),), (array([[0.]]),), array([[[-0.28213514, -0.97565467]]]))\n",
      "((array([-0.]),), (array([[0.]]),), array([[[-2.03068447,  2.06449286]]]))\n"
     ]
    }
   ],
   "source": [
    "### fit one state GLM-HMM at group level\n",
    "\n",
    "num_states = 1\n",
    "n_iter = 100\n",
    "\n",
    "transition_alpha = 1\n",
    "prior_sigma = 10\n",
    "\n",
    "iter_array = np.full([n_iter, 2], np.nan)\n",
    "for idx in range(n_iter):\n",
    "    \n",
    "    one_state_glmhmm = HMM(num_states, obs_dim, input_dim, \n",
    "                    observations=\"input_driven_obs\", \n",
    "                    observation_kwargs=dict(C=num_categories, prior_sigma=prior_sigma), \n",
    "                    transitions=\"sticky\", \n",
    "                    transition_kwargs=dict(alpha=transition_alpha, kappa=0))\n",
    "    print(one_state_glmhmm.params)\n",
    "    one_state_glmhmm.fit(choices, inputs=inpts, method=\"em\", num_iters=N_iters, initialize = True, tolerance=10**-4, verbose = False)\n",
    "    iter_array[idx,] = one_state_glmhmm.observations.params.reshape((1,2))\n"
   ]
  },
  {
   "cell_type": "code",
   "execution_count": 18,
   "metadata": {},
   "outputs": [],
   "source": [
    "df_iter_array = pd.DataFrame(iter_array, columns = ['theta', 'prev_resp'])\n",
    "if save_data:\n",
    "    df_iter_array.to_csv(root_dir + '/HMM/one_level_HMM_params.csv', index = False) "
   ]
  },
  {
   "cell_type": "code",
   "execution_count": 19,
   "metadata": {},
   "outputs": [
    {
     "name": "stdout",
     "output_type": "stream",
     "text": [
      "[-0.02170771 -0.23100328]\n"
     ]
    }
   ],
   "source": [
    "df_iter_array = pd.read_csv(root_dir + '/HMM/one_level_HMM_params.csv')\n",
    "params_for_initalization = df_iter_array.mean().values\n",
    "print(params_for_initalization)"
   ]
  },
  {
   "cell_type": "markdown",
   "metadata": {},
   "source": [
    "# Fit multi-state GLM-HMMs at group-level and compare BIC"
   ]
  },
  {
   "cell_type": "code",
   "execution_count": 30,
   "metadata": {},
   "outputs": [
    {
     "name": "stdout",
     "output_type": "stream",
     "text": [
      "0\n",
      "[[[-1.04758148 -0.47691989]]]\n",
      "1\n",
      "[[[-0.99910348 -1.41106381]]\n",
      "\n",
      " [[-1.19839237 -0.04329078]]]\n"
     ]
    }
   ],
   "source": [
    "## compare models based on BIC\n",
    "max_num_states =  2    # number of discrete states\n",
    "\n",
    "N_iters = 500 # maximum number of EM iterations. Fitting with stop earlier if increase in LL is below tolerance specified by tolerance parameter\n",
    "# Make a GLM-HMM\n",
    "prior_sigma = 10\n",
    "transition_alpha = 1\n",
    "\n",
    "BIC = []\n",
    "for state_idx in range(max_num_states): \n",
    "    print(state_idx)\n",
    "    compare_glmhmm = ssm.HMM(state_idx+1, obs_dim, input_dim, \n",
    "                    observations=\"input_driven_obs\", \n",
    "                    observation_kwargs=dict(C=num_categories, prior_sigma=prior_sigma), \n",
    "                    transitions=\"sticky\", \n",
    "                    transition_kwargs=dict(alpha=transition_alpha, kappa=0))\n",
    "\n",
    "    \n",
    "    _ = compare_glmhmm.fit(choices, inputs=inpts, method=\"em\", num_iters=N_iters, initialize = True, tolerance=10**-4, verbose = False)\n",
    "    n_total_params = np.concatenate(compare_glmhmm.observations.params).size + np.concatenate(compare_glmhmm.transitions.params).size\n",
    "    \n",
    "    # Flatten choices and inpts to calculate log likelihood correctly\n",
    "    flattened_choices = np.concatenate(choices)\n",
    "    flattened_inpts = np.concatenate(inpts)\n",
    "\n",
    "    new_BIC = np.log(np.size(flattened_choices))*n_total_params - 2*compare_glmhmm.log_likelihood(choices, inputs=inpts)\n",
    "    \n",
    "    if save_data:\n",
    "        pd.DataFrame(np.append(new_BIC, np.concatenate(compare_glmhmm.observations.params))).to_csv(root_dir + '/HMM/Full_model_outcome_states_' + str(state_idx + 1) + '.csv', index = False)\n",
    "\n",
    "    BIC = np.append(BIC, new_BIC) \n",
    "    print(compare_glmhmm.observations.params)\n",
    "\n",
    "df_BIC = pd.DataFrame({'BIC': BIC, 'num_states': np.arange(max_num_states) + 1})\n",
    "\n",
    "\n",
    "if save_data:\n",
    "    df_BIC.to_csv(root_dir + '/HMM/BIC_across_models.csv', index = False)\n"
   ]
  },
  {
   "cell_type": "code",
   "execution_count": 31,
   "metadata": {},
   "outputs": [
    {
     "data": {
      "text/plain": [
       "array([-1117.0134779])"
      ]
     },
     "execution_count": 31,
     "metadata": {},
     "output_type": "execute_result"
    },
    {
     "data": {
      "image/png": "[encoded data removed]",
      "text/plain": [
       "<Figure size 640x480 with 1 Axes>"
      ]
     },
     "metadata": {},
     "output_type": "display_data"
    }
   ],
   "source": [
    "df_BIC = pd.read_csv(root_dir + '/HMM/BIC_across_models.csv')\n",
    "plt.plot(df_BIC['num_states'], df_BIC['BIC'])\n",
    "np.diff(df_BIC.BIC)"
   ]
  },
  {
   "cell_type": "markdown",
   "metadata": {},
   "source": [
    "# Fit permuted multi-state GLM-HMMs at group-level and compare BIC"
   ]
  },
  {
   "cell_type": "code",
   "execution_count": 32,
   "metadata": {},
   "outputs": [
    {
     "name": "stdout",
     "output_type": "stream",
     "text": [
      "Permutation 0, State 0\n",
      "Permutation 0, State 1\n",
      "Permutation 1, State 0\n",
      "Permutation 1, State 1\n",
      "Permutation 2, State 0\n",
      "Permutation 2, State 1\n",
      "Permutation 3, State 0\n",
      "Permutation 3, State 1\n",
      "Permutation 4, State 0\n",
      "Permutation 4, State 1\n",
      "Permutation 5, State 0\n",
      "Permutation 5, State 1\n",
      "Permutation 6, State 0\n",
      "Permutation 6, State 1\n",
      "Permutation 7, State 0\n",
      "Permutation 7, State 1\n",
      "Permutation 8, State 0\n",
      "Permutation 8, State 1\n",
      "Permutation 9, State 0\n",
      "Permutation 9, State 1\n",
      "Permutation 10, State 0\n",
      "Permutation 10, State 1\n",
      "Permutation 11, State 0\n",
      "Permutation 11, State 1\n",
      "Permutation 12, State 0\n",
      "Permutation 12, State 1\n",
      "Permutation 13, State 0\n",
      "Permutation 13, State 1\n",
      "Permutation 14, State 0\n",
      "Permutation 14, State 1\n",
      "Permutation 15, State 0\n",
      "Permutation 15, State 1\n",
      "Permutation 16, State 0\n",
      "Permutation 16, State 1\n",
      "Permutation 17, State 0\n",
      "Permutation 17, State 1\n",
      "Permutation 18, State 0\n",
      "Permutation 18, State 1\n",
      "Permutation 19, State 0\n",
      "Permutation 19, State 1\n",
      "Permutation 20, State 0\n",
      "Permutation 20, State 1\n",
      "Permutation 21, State 0\n",
      "Permutation 21, State 1\n",
      "Permutation 22, State 0\n",
      "Permutation 22, State 1\n",
      "Permutation 23, State 0\n",
      "Permutation 23, State 1\n",
      "Permutation 24, State 0\n",
      "Permutation 24, State 1\n",
      "Permutation 25, State 0\n",
      "Permutation 25, State 1\n",
      "Permutation 26, State 0\n",
      "Permutation 26, State 1\n",
      "Permutation 27, State 0\n",
      "Permutation 27, State 1\n",
      "Permutation 28, State 0\n",
      "Permutation 28, State 1\n",
      "Permutation 29, State 0\n",
      "Permutation 29, State 1\n",
      "Permutation 30, State 0\n",
      "Permutation 30, State 1\n",
      "Permutation 31, State 0\n",
      "Permutation 31, State 1\n",
      "Permutation 32, State 0\n",
      "Permutation 32, State 1\n",
      "Permutation 33, State 0\n",
      "Permutation 33, State 1\n",
      "Permutation 34, State 0\n",
      "Permutation 34, State 1\n",
      "Permutation 35, State 0\n",
      "Permutation 35, State 1\n",
      "Permutation 36, State 0\n",
      "Permutation 36, State 1\n",
      "Permutation 37, State 0\n",
      "Permutation 37, State 1\n",
      "Permutation 38, State 0\n",
      "Permutation 38, State 1\n",
      "Permutation 39, State 0\n",
      "Permutation 39, State 1\n",
      "Permutation 40, State 0\n",
      "Permutation 40, State 1\n",
      "Permutation 41, State 0\n",
      "Permutation 41, State 1\n",
      "Permutation 42, State 0\n",
      "Permutation 42, State 1\n",
      "Permutation 43, State 0\n",
      "Permutation 43, State 1\n",
      "Permutation 44, State 0\n",
      "Permutation 44, State 1\n",
      "Permutation 45, State 0\n",
      "Permutation 45, State 1\n",
      "Permutation 46, State 0\n",
      "Permutation 46, State 1\n",
      "Permutation 47, State 0\n",
      "Permutation 47, State 1\n",
      "Permutation 48, State 0\n",
      "Permutation 48, State 1\n",
      "Permutation 49, State 0\n",
      "Permutation 49, State 1\n",
      "Permutation 50, State 0\n",
      "Permutation 50, State 1\n",
      "Permutation 51, State 0\n",
      "Permutation 51, State 1\n",
      "Permutation 52, State 0\n",
      "Permutation 52, State 1\n",
      "Permutation 53, State 0\n",
      "Permutation 53, State 1\n",
      "Permutation 54, State 0\n",
      "Permutation 54, State 1\n",
      "Permutation 55, State 0\n",
      "Permutation 55, State 1\n",
      "Permutation 56, State 0\n",
      "Permutation 56, State 1\n",
      "Permutation 57, State 0\n",
      "Permutation 57, State 1\n",
      "Permutation 58, State 0\n",
      "Permutation 58, State 1\n",
      "Permutation 59, State 0\n",
      "Permutation 59, State 1\n",
      "Permutation 60, State 0\n",
      "Permutation 60, State 1\n",
      "Permutation 61, State 0\n",
      "Permutation 61, State 1\n",
      "Permutation 62, State 0\n",
      "Permutation 62, State 1\n",
      "Permutation 63, State 0\n",
      "Permutation 63, State 1\n",
      "Permutation 64, State 0\n",
      "Permutation 64, State 1\n",
      "Permutation 65, State 0\n",
      "Permutation 65, State 1\n",
      "Permutation 66, State 0\n",
      "Permutation 66, State 1\n",
      "Permutation 67, State 0\n",
      "Permutation 67, State 1\n",
      "Permutation 68, State 0\n",
      "Permutation 68, State 1\n",
      "Permutation 69, State 0\n",
      "Permutation 69, State 1\n",
      "Permutation 70, State 0\n",
      "Permutation 70, State 1\n",
      "Permutation 71, State 0\n",
      "Permutation 71, State 1\n",
      "Permutation 72, State 0\n",
      "Permutation 72, State 1\n",
      "Permutation 73, State 0\n",
      "Permutation 73, State 1\n",
      "Permutation 74, State 0\n",
      "Permutation 74, State 1\n",
      "Permutation 75, State 0\n",
      "Permutation 75, State 1\n",
      "Permutation 76, State 0\n",
      "Permutation 76, State 1\n",
      "Permutation 77, State 0\n",
      "Permutation 77, State 1\n",
      "Permutation 78, State 0\n",
      "Permutation 78, State 1\n",
      "Permutation 79, State 0\n",
      "Permutation 79, State 1\n",
      "Permutation 80, State 0\n",
      "Permutation 80, State 1\n",
      "Permutation 81, State 0\n",
      "Permutation 81, State 1\n",
      "Permutation 82, State 0\n",
      "Permutation 82, State 1\n",
      "Permutation 83, State 0\n",
      "Permutation 83, State 1\n",
      "Permutation 84, State 0\n",
      "Permutation 84, State 1\n",
      "Permutation 85, State 0\n",
      "Permutation 85, State 1\n",
      "Permutation 86, State 0\n",
      "Permutation 86, State 1\n",
      "Permutation 87, State 0\n",
      "Permutation 87, State 1\n",
      "Permutation 88, State 0\n",
      "Permutation 88, State 1\n",
      "Permutation 89, State 0\n",
      "Permutation 89, State 1\n",
      "Permutation 90, State 0\n",
      "Permutation 90, State 1\n",
      "Permutation 91, State 0\n",
      "Permutation 91, State 1\n",
      "Permutation 92, State 0\n",
      "Permutation 92, State 1\n",
      "Permutation 93, State 0\n",
      "Permutation 93, State 1\n",
      "Permutation 94, State 0\n",
      "Permutation 94, State 1\n",
      "Permutation 95, State 0\n",
      "Permutation 95, State 1\n",
      "Permutation 96, State 0\n",
      "Permutation 96, State 1\n",
      "Permutation 97, State 0\n",
      "Permutation 97, State 1\n",
      "Permutation 98, State 0\n",
      "Permutation 98, State 1\n",
      "Permutation 99, State 0\n",
      "Permutation 99, State 1\n"
     ]
    }
   ],
   "source": [
    "# Permutation analysis\n",
    "n_perm = 100\n",
    "BIC_permuted = []\n",
    "\n",
    "for perm_idx in range(n_perm):\n",
    "    permuted_choices = []\n",
    "    permuted_inpts = []\n",
    "    \n",
    "    for i in range(len(choices)):\n",
    "        perm_indices = np.random.permutation(choices[i].shape[0])\n",
    "        permuted_choices.append(choices[i][perm_indices])\n",
    "        permuted_inpts.append(inpts[i][perm_indices])\n",
    "    \n",
    "    for state_idx in range(max_num_states):\n",
    "        print(f\"Permutation {perm_idx}, State {state_idx}\")\n",
    "        permuted_glmhmm = ssm.HMM(state_idx + 1, obs_dim, input_dim, \n",
    "                                  observations=\"input_driven_obs\", \n",
    "                                  observation_kwargs=dict(C=num_categories, prior_sigma=prior_sigma), \n",
    "                                  transitions=\"sticky\", \n",
    "                                  transition_kwargs=dict(alpha=transition_alpha, kappa=0))\n",
    "\n",
    "        _ = permuted_glmhmm.fit(permuted_choices, inputs=permuted_inpts, method=\"em\", num_iters=N_iters, initialize=True, tolerance=10**-4, verbose=False)\n",
    "\n",
    "        n_total_params = np.concatenate(permuted_glmhmm.observations.params).size + np.concatenate(permuted_glmhmm.transitions.params).size\n",
    "\n",
    "        # Compute log likelihood\n",
    "        log_likelihood = permuted_glmhmm.log_likelihood(permuted_choices, inputs=permuted_inpts)\n",
    "\n",
    "        # Compute BIC\n",
    "        new_BIC = np.log(len(flattened_choices)) * n_total_params - 2 * log_likelihood\n",
    "        BIC_permuted.append({'perm_idx': perm_idx, 'state_idx': state_idx + 1, 'BIC': new_BIC})\n",
    "\n",
    "df_BIC_permuted = pd.DataFrame(BIC_permuted)\n",
    "if save_data:\n",
    "    df_BIC_permuted.to_csv(root_dir + '/HMM/BIC_permuted_across_models.csv', index=False)"
   ]
  },
  {
   "cell_type": "code",
   "execution_count": 33,
   "metadata": {},
   "outputs": [
    {
     "data": {
      "image/png": "[encoded data removed]",
      "text/plain": [
       "<Figure size 640x480 with 1 Axes>"
      ]
     },
     "metadata": {},
     "output_type": "display_data"
    },
    {
     "name": "stdout",
     "output_type": "stream",
     "text": [
      "[-1117.0134779]\n"
     ]
    }
   ],
   "source": [
    "# Average BIC across permutations\n",
    "df_BIC_permuted_avg = df_BIC_permuted.groupby('state_idx').agg({'BIC': 'mean'}).reset_index()\n",
    "\n",
    "# Plotting\n",
    "plt.plot(df_BIC['num_states'], df_BIC['BIC'], label='Original Data')\n",
    "plt.plot(df_BIC_permuted_avg['state_idx'], df_BIC_permuted_avg['BIC'], label='Permuted Data (Avg)', linestyle='--')\n",
    "plt.xlabel('Number of States')\n",
    "plt.ylabel('BIC')\n",
    "plt.legend()\n",
    "plt.title('BIC Comparison Between Original and Permuted Data')\n",
    "plt.show()\n",
    "\n",
    "# Compute differences in BIC for original data\n",
    "bic_diff = np.diff(df_BIC['BIC'])\n",
    "print(bic_diff)"
   ]
  },
  {
   "cell_type": "markdown",
   "metadata": {},
   "source": [
    "# Fit two-state GLM-HMMs "
   ]
  },
  {
   "cell_type": "code",
   "execution_count": null,
   "metadata": {},
   "outputs": [
    {
     "name": "stdout",
     "output_type": "stream",
     "text": [
      "0\n",
      "[[[-1.19789146 -0.04296052]]\n",
      "\n",
      " [[-0.99946458 -1.41167588]]]\n",
      "[[1.19789146 0.04296052]\n",
      " [0.99946458 1.41167588]]\n",
      "[1.19789146 0.99946458]\n",
      "0\n",
      "1\n",
      "[[[-1.19834297 -0.04292162]]\n",
      "\n",
      " [[-0.99915863 -1.41079296]]]\n",
      "[[1.19834297 0.04292162]\n",
      " [0.99915863 1.41079296]]\n",
      "[1.19834297 0.99915863]\n",
      "0\n"
     ]
    }
   ],
   "source": [
    "npr.seed(0)\n",
    "# Set the parameters of the GLM-HMM\n",
    "num_states =  2      # number of discrete states\n",
    "obs_dim = 1           # number of observed dimensions\n",
    "num_categories = 2    # number of categories for output\n",
    "input_dim = 2      # input dimensions\n",
    "\n",
    "N_iters = 500 # maximum number of EM iterations. Fitting with stop earlier if increase in LL is below tolerance specified by tolerance parameter\n",
    "# Make a GLM-HMM\n",
    "\n",
    "prior_sigma = 10\n",
    "transition_alpha = 1\n",
    "\n",
    "n_iter = 2 #10\n",
    "parameters_ext_int = np.full([n_iter, 8], np.nan)\n",
    "for idx in range(n_iter):\n",
    "    print(idx)\n",
    "    glmhmm = ssm.HMM(num_states, obs_dim, input_dim, \n",
    "                        observations=\"input_driven_obs\", \n",
    "                        observation_kwargs=dict(C=num_categories, prior_sigma=prior_sigma), \n",
    "                        transitions=\"sticky\", \n",
    "                        transition_kwargs=dict(alpha=transition_alpha, kappa=0))\n",
    "    \n",
    "    #glmhmm.observations.params =  np.tile(params_for_initalization, (num_states,1)).reshape(num_states, 1, 3)\n",
    "    _ = glmhmm.fit(choices, inputs=inpts, method=\"em\", num_iters=N_iters, initialize = True, tolerance=10**-4, verbose = False)\n",
    "   \n",
    "    index_ext = np.argmax(np.concatenate(-glmhmm.observations.params)[:,0])\n",
    "    index_int = np.argmin(np.concatenate(-glmhmm.observations.params)[:,0])\n",
    "    parameters_ext_int[idx,] = np.concatenate((-glmhmm.observations.params[index_ext,:], -glmhmm.observations.params[index_int,:], glmhmm.transitions.params[0].reshape(1,4)), axis = 1)\n",
    "    del(glmhmm)\n"
   ]
  },
  {
   "cell_type": "markdown",
   "metadata": {},
   "source": [
    "en gros, ext c'est pour la phase externale, int pour la phase internale où les coefs sont moins importants"
   ]
  },
  {
   "cell_type": "code",
   "execution_count": null,
   "metadata": {},
   "outputs": [],
   "source": [
    "\n",
    "df_two_state_init = pd.DataFrame(parameters_ext_int, columns = ['theta_ext', 'prev_resp_ext',\n",
    "                                                                'theta_int', 'prev_resp_int',\n",
    "                                                                 'AA', 'AB', 'BA', 'BB'])\n"
   ]
  },
  {
   "cell_type": "code",
   "execution_count": 36,
   "metadata": {},
   "outputs": [],
   "source": [
    "if save_data:\n",
    "    df_two_state_init.to_csv(root_dir + '/HMM/two_state_init_param.csv', index = False)"
   ]
  },
  {
   "cell_type": "code",
   "execution_count": 37,
   "metadata": {},
   "outputs": [
    {
     "data": {
      "text/plain": [
       "contrast_ext             1.198100\n",
       "previous_response_ext    0.043091\n",
       "contrast_int             0.999131\n",
       "previous_response_int    1.410793\n",
       "AA                      -0.032504\n",
       "AB                      -3.511188\n",
       "BA                      -3.364398\n",
       "BB                      -0.037510\n",
       "dtype: float64"
      ]
     },
     "execution_count": 37,
     "metadata": {},
     "output_type": "execute_result"
    }
   ],
   "source": [
    "df_two_state_init.mean()"
   ]
  },
  {
   "cell_type": "code",
   "execution_count": null,
   "metadata": {},
   "outputs": [
    {
     "name": "stdout",
     "output_type": "stream",
     "text": [
      "[[[-1.19809966 -0.04309104]]\n",
      "\n",
      " [[-0.99913129 -1.41079339]]]\n",
      "[-0.99913129 -1.41079339]\n"
     ]
    }
   ],
   "source": [
    "df_two_state_init = pd.read_csv(root_dir + '/HMM/two_state_init_param.csv')\n",
    "param_init_ext_int = df_two_state_init.mean().values\n",
    "\n",
    "recovered_weights = -param_init_ext_int[0:4].reshape(2,1,2)\n",
    "recovered_trans_mat = np.exp(param_init_ext_int[4:8].reshape(2,2))"
   ]
  },
  {
   "cell_type": "code",
   "execution_count": null,
   "metadata": {},
   "outputs": [
    {
     "data": {
      "text/plain": [
       "Text(0.5, 1.0, 'Weight recovery')"
      ]
     },
     "execution_count": 46,
     "metadata": {},
     "output_type": "execute_result"
    },
    {
     "data": {
      "image/png": "[encoded data removed]",
      "text/plain": [
       "<Figure size 320x240 with 1 Axes>"
      ]
     },
     "metadata": {},
     "output_type": "display_data"
    }
   ],
   "source": [
    "fig = plt.figure(figsize=(4, 3), dpi=80, facecolor='w', edgecolor='k')\n",
    "cols = ['#ff7f00', '#4daf4a', '#377eb8',  '#8B0000', '#000000']\n",
    "for k in range(num_states):\n",
    "    if k ==0:\n",
    "        \n",
    "        plt.plot(range(input_dim), -recovered_weights[k][0], color=cols[k],\n",
    "                     lw=1.5,  label = \"estimated\", linestyle = '--')\n",
    "    else:\n",
    "        plt.plot(range(input_dim), -recovered_weights[k][0], color=cols[k],\n",
    "                     lw=1.5,  label = '', linestyle = '--')\n",
    "plt.yticks(fontsize=10)\n",
    "plt.ylabel(\"GLM weight\", fontsize=15)\n",
    "plt.xlabel(\"covariate\", fontsize=15)\n",
    "plt.xticks([0, 1], ['theta', 'prev_resp'], fontsize=12, rotation=45)\n",
    "plt.axhline(y=0, color=\"k\", alpha=0.5, ls=\"--\")\n",
    "plt.legend()\n",
    "plt.title(\"Weight recovery\", fontsize=15)"
   ]
  },
  {
   "cell_type": "markdown",
   "metadata": {},
   "source": [
    "on voit que la previous response n'a pas de poids dans le state n1."
   ]
  },
  {
   "cell_type": "code",
   "execution_count": 51,
   "metadata": {},
   "outputs": [
    {
     "data": {
      "image/png": "[encoded data removed]",
      "text/plain": [
       "<Figure size 400x200 with 1 Axes>"
      ]
     },
     "metadata": {},
     "output_type": "display_data"
    }
   ],
   "source": [
    "fig = plt.figure(figsize=(5, 2.5), dpi=80, facecolor='w', edgecolor='k')\n",
    "plt.imshow(recovered_trans_mat, vmin=-0.8, vmax=1, cmap='bone')\n",
    "for i in range(recovered_trans_mat.shape[0]):\n",
    "    for j in range(recovered_trans_mat.shape[1]):\n",
    "        text = plt.text(j, i, str(np.around(recovered_trans_mat[i, j], decimals=2)), ha=\"center\", va=\"center\",\n",
    "                        color=\"k\", fontsize=12)\n",
    "plt.xlim(-0.5, num_states - 0.5)\n",
    "plt.xticks(range(0, num_states), ('1', '2'), fontsize=10)\n",
    "plt.yticks(range(0, num_states), ('1', '2'), fontsize=10)\n",
    "plt.ylim(num_states - 0.5, -0.5)\n",
    "plt.title(\"recovered\", fontsize = 15)\n",
    "plt.subplots_adjust(0, 0, 1, 1)"
   ]
  },
  {
   "cell_type": "markdown",
   "metadata": {},
   "source": [
    "## Posterior State Probabilities"
   ]
  },
  {
   "cell_type": "markdown",
   "metadata": {},
   "source": [
    "Let's now plot $p(z_{t} = k|\\mathbf{y}, \\{u_{t}\\}_{t=1}^{T})$, the posterior state probabilities, which give the probability of the animal being in state k at trial t."
   ]
  },
  {
   "cell_type": "code",
   "execution_count": 52,
   "metadata": {},
   "outputs": [
    {
     "name": "stdout",
     "output_type": "stream",
     "text": [
      "[[[1.19823064 0.04152385]]\n",
      "\n",
      " [[0.99988245 1.4113977 ]]]\n"
     ]
    }
   ],
   "source": [
    "# run average model\n",
    "prior_sigma = 10\n",
    "\n",
    "glmhmm = ssm.HMM(num_states, obs_dim, input_dim, \n",
    "                        observations=\"input_driven_obs\", \n",
    "                        observation_kwargs=dict(C=num_categories, prior_sigma=prior_sigma), \n",
    "                        transitions=\"sticky\", \n",
    "                        transition_kwargs=dict(alpha=transition_alpha, kappa=0))\n",
    "        \n",
    "glmhmm.init_state_distn.params = np.log([0.5, 0.5])\n",
    "glmhmm.observations.params = -param_init_ext_int[0:4].reshape(2,1,2)\n",
    "glmhmm.transitions.params = (param_init_ext_int[4:8].reshape(2,2),)\n",
    "\n",
    "_ = glmhmm.fit(choices, inputs=inpts, method=\"em\", num_iters=N_iters, initialize = False, tolerance=10**-4, verbose = False)\n",
    "print(-glmhmm.observations.params)\n",
    "index_ext = np.argmax(np.concatenate(-glmhmm.observations.params)[:,0])\n",
    "index_int = np.argmin(np.concatenate(-glmhmm.observations.params)[:,0])"
   ]
  },
  {
   "cell_type": "code",
   "execution_count": 53,
   "metadata": {},
   "outputs": [],
   "source": [
    "# Get expected states:\n",
    "posterior_probs = [glmhmm.expected_states(data=data, input=inpt)[0]\n",
    "                for data, inpt\n",
    "                in zip(choices, inpts)]"
   ]
  },
  {
   "cell_type": "code",
   "execution_count": 55,
   "metadata": {},
   "outputs": [
    {
     "data": {
      "text/plain": [
       "Text(0, 0.5, 'p(state)')"
      ]
     },
     "execution_count": 55,
     "metadata": {},
     "output_type": "execute_result"
    },
    {
     "data": {
      "image/png": "[encoded data removed]",
      "text/plain": [
       "<Figure size 400x200 with 1 Axes>"
      ]
     },
     "metadata": {},
     "output_type": "display_data"
    }
   ],
   "source": [
    "fig = plt.figure(figsize=(5, 2.5), dpi=80, facecolor='w', edgecolor='k')\n",
    "sess_id = 6 #session id; can choose any index between 0 and num_sess-1\n",
    "for k in range(num_states):\n",
    "    plt.plot(posterior_probs[sess_id][1:1500, k], label=\"State \" + str(k + 1), lw=2,\n",
    "             color=cols[k])\n",
    "plt.ylim((-0.01, 1.01))\n",
    "plt.yticks([0, 0.5, 1], fontsize = 10)\n",
    "plt.xlabel(\"trial #\", fontsize = 15)\n",
    "plt.ylabel(\"p(state)\", fontsize = 15)"
   ]
  },
  {
   "cell_type": "markdown",
   "metadata": {},
   "source": [
    "With these posterior state probabilities, we can assign trials to states and then plot the fractional occupancy of each state:"
   ]
  },
  {
   "cell_type": "code",
   "execution_count": 56,
   "metadata": {},
   "outputs": [],
   "source": [
    "# concatenate posterior probabilities across sessions\n",
    "posterior_probs_concat = np.concatenate(posterior_probs)\n",
    "# get state with maximum posterior probability at particular trial:\n",
    "state_max_posterior = np.argmax(posterior_probs_concat, axis = 1)\n",
    "# now obtain state fractional occupancies:\n",
    "_, state_occupancies = np.unique(state_max_posterior, return_counts=True)\n",
    "state_occupancies = state_occupancies/np.sum(state_occupancies)"
   ]
  },
  {
   "cell_type": "code",
   "execution_count": 57,
   "metadata": {},
   "outputs": [
    {
     "data": {
      "text/plain": [
       "Text(0, 0.5, 'frac. occupancy')"
      ]
     },
     "execution_count": 57,
     "metadata": {},
     "output_type": "execute_result"
    },
    {
     "data": {
      "image/png": "[encoded data removed]",
      "text/plain": [
       "<Figure size 160x200 with 1 Axes>"
      ]
     },
     "metadata": {},
     "output_type": "display_data"
    }
   ],
   "source": [
    "fig = plt.figure(figsize=(2, 2.5), dpi=80, facecolor='w', edgecolor='k')\n",
    "for z, occ in enumerate(state_occupancies):\n",
    "    plt.bar(z, occ, width = 0.8, color = cols[z])\n",
    "plt.ylim((0, 1))\n",
    "plt.xticks([0, 1, 2], ['1', '2', '3'], fontsize = 10)\n",
    "plt.yticks([0, 0.5, 1], ['0', '0.5', '1'], fontsize=10)\n",
    "plt.xlabel('state', fontsize = 15)\n",
    "plt.ylabel('frac. occupancy', fontsize=15)"
   ]
  },
  {
   "cell_type": "code",
   "execution_count": 59,
   "metadata": {},
   "outputs": [],
   "source": [
    "df = df.assign(Gl_Prob_State_ext = posterior_probs_concat[:,index_ext])\n",
    "df = df.assign(Gl_Prob_State_int = posterior_probs_concat[:,index_int])\n",
    "\n",
    "if save_data:\n",
    "    df.to_csv(root_dir + '/HMM/Full_HMM.csv', index = False)"
   ]
  }
 ],
 "metadata": {
  "kernelspec": {
   "display_name": "base",
   "language": "python",
   "name": "python3"
  },
  "language_info": {
   "codemirror_mode": {
    "name": "ipython",
    "version": 3
   },
   "file_extension": ".py",
   "mimetype": "text/x-python",
   "name": "python",
   "nbconvert_exporter": "python",
   "pygments_lexer": "ipython3",
   "version": "3.12.4"
  }
 },
 "nbformat": 4,
 "nbformat_minor": 4
}
